{
 "cells": [
  {
   "cell_type": "code",
   "execution_count": 1,
   "id": "9613bca3-3ba9-442c-bc77-a0476a1760ba",
   "metadata": {},
   "outputs": [
    {
     "name": "stdout",
     "output_type": "stream",
     "text": [
      "Requirement already satisfied: pandas in c:\\users\\azif\\anaconda3\\lib\\site-packages (2.2.2)Note: you may need to restart the kernel to use updated packages.\n",
      "\n",
      "Requirement already satisfied: numpy>=1.26.0 in c:\\users\\azif\\anaconda3\\lib\\site-packages (from pandas) (1.26.4)\n",
      "Requirement already satisfied: python-dateutil>=2.8.2 in c:\\users\\azif\\anaconda3\\lib\\site-packages (from pandas) (2.9.0.post0)\n",
      "Requirement already satisfied: pytz>=2020.1 in c:\\users\\azif\\anaconda3\\lib\\site-packages (from pandas) (2024.1)\n",
      "Requirement already satisfied: tzdata>=2022.7 in c:\\users\\azif\\anaconda3\\lib\\site-packages (from pandas) (2023.3)\n",
      "Requirement already satisfied: six>=1.5 in c:\\users\\azif\\anaconda3\\lib\\site-packages (from python-dateutil>=2.8.2->pandas) (1.16.0)\n"
     ]
    }
   ],
   "source": [
    "pip install pandas"
   ]
  },
  {
   "cell_type": "code",
   "execution_count": 3,
   "id": "f6d3de7b-5ec0-4b4b-9541-f0d530556f2e",
   "metadata": {},
   "outputs": [
    {
     "name": "stdout",
     "output_type": "stream",
     "text": [
      "                        author      posted_on  rating  \\\n",
      "0  Alantae of Chesterfeild, MI  Nov. 22, 2016       1   \n",
      "1     Vera of Philadelphia, PA  Nov. 19, 2016       1   \n",
      "2  Sarah of Rancho Cordova, CA  Nov. 17, 2016       1   \n",
      "3     Dennis of Manchester, NH  Nov. 16, 2016       1   \n",
      "4         Ryan of Bellevue, WA  Nov. 14, 2016       1   \n",
      "\n",
      "                                                text  \n",
      "0  I used to love Comcast. Until all these consta...  \n",
      "1  I'm so over Comcast! The worst internet provid...  \n",
      "2  If I could give them a negative star or no sta...  \n",
      "3  I've had the worst experiences so far since in...  \n",
      "4  Check your contract when you sign up for Comca...  \n"
     ]
    }
   ],
   "source": [
    "import pandas as pd\n",
    "\n",
    "# Load the dataset\n",
    "df = pd.read_csv('customer_complaints_1.csv')\n",
    "\n",
    "# Display the first few rows to understand the structure\n",
    "print(df.head())"
   ]
  },
  {
   "cell_type": "code",
   "execution_count": 5,
   "id": "f3b2fc38-85b5-45b0-9853-0e530958794e",
   "metadata": {},
   "outputs": [
    {
     "name": "stderr",
     "output_type": "stream",
     "text": [
      "[nltk_data] Downloading package stopwords to\n",
      "[nltk_data]     C:\\Users\\Azif\\AppData\\Roaming\\nltk_data...\n",
      "[nltk_data]   Package stopwords is already up-to-date!\n"
     ]
    }
   ],
   "source": [
    "import string\n",
    "import nltk\n",
    "from nltk.corpus import stopwords\n",
    "from nltk.stem import PorterStemmer\n",
    "\n",
    "# Download stopwords if not already done\n",
    "nltk.download('stopwords')\n",
    "\n",
    "def preprocess_text(text):\n",
    "    # Convert to lowercase\n",
    "    text = text.lower()\n",
    "    \n",
    "    # Remove punctuation\n",
    "    text = ''.join([char for char in text if char not in string.punctuation])\n",
    "    \n",
    "    # Tokenize and remove stopwords\n",
    "    stop_words = set(stopwords.words('english'))\n",
    "    words = text.split()\n",
    "    words = [word for word in words if word not in stop_words]\n",
    "    \n",
    "    # Stem the words\n",
    "    ps = PorterStemmer()\n",
    "    words = [ps.stem(word) for word in words]\n",
    "    \n",
    "    return ' '.join(words)"
   ]
  },
  {
   "cell_type": "code",
   "execution_count": 9,
   "id": "ea871536-7426-4cc2-b7c2-640d73f70479",
   "metadata": {},
   "outputs": [
    {
     "name": "stdout",
     "output_type": "stream",
     "text": [
      "                                                text  \\\n",
      "0  I used to love Comcast. Until all these consta...   \n",
      "1  I'm so over Comcast! The worst internet provid...   \n",
      "2  If I could give them a negative star or no sta...   \n",
      "3  I've had the worst experiences so far since in...   \n",
      "4  Check your contract when you sign up for Comca...   \n",
      "\n",
      "                                      Processed_Text  \n",
      "0  use love comcast constant updat internet cabl ...  \n",
      "1  im comcast worst internet provid im take onlin...  \n",
      "2  could give neg star star review would never wo...  \n",
      "3  ive worst experi far sinc instal 10416 noth pr...  \n",
      "4  check contract sign comcast advertis offer mat...  \n"
     ]
    }
   ],
   "source": [
    "# Preprocess the complaints text\n",
    "df['Processed_Text'] = df['text'].apply(preprocess_text)\n",
    "\n",
    "# Display the first few rows of the preprocessed text\n",
    "print(df[['text', 'Processed_Text']].head())"
   ]
  },
  {
   "cell_type": "code",
   "execution_count": 11,
   "id": "2b02a946-d58b-4ea6-a6ba-670d1be28633",
   "metadata": {},
   "outputs": [
    {
     "name": "stdout",
     "output_type": "stream",
     "text": [
      "(19, 705)\n"
     ]
    }
   ],
   "source": [
    "from sklearn.feature_extraction.text import TfidfVectorizer\n",
    "\n",
    "# Initialize the TF-IDF Vectorizer\n",
    "vectorizer = TfidfVectorizer()\n",
    "\n",
    "# Vectorize the preprocessed text\n",
    "X = vectorizer.fit_transform(df['Processed_Text'])\n",
    "\n",
    "# Display the shape of the resulting matrix (samples x features)\n",
    "print(X.shape)"
   ]
  },
  {
   "cell_type": "code",
   "execution_count": 15,
   "id": "9cf049b0-2c5f-485f-874c-b24bf37804b8",
   "metadata": {},
   "outputs": [
    {
     "name": "stdout",
     "output_type": "stream",
     "text": [
      "                                                text  Cluster\n",
      "0  I used to love Comcast. Until all these consta...        1\n",
      "1  I'm so over Comcast! The worst internet provid...        1\n",
      "2  If I could give them a negative star or no sta...        2\n",
      "3  I've had the worst experiences so far since in...        2\n",
      "4  Check your contract when you sign up for Comca...        2\n"
     ]
    }
   ],
   "source": [
    "from sklearn.cluster import KMeans\n",
    "\n",
    "# Define the number of clusters\n",
    "k = 5  # Adjust as needed\n",
    "\n",
    "# Perform KMeans clustering\n",
    "km = KMeans(n_clusters=k, random_state=42)\n",
    "km.fit(X)\n",
    "\n",
    "# Predict the clusters\n",
    "df['Cluster'] = km.predict(X)\n",
    "\n",
    "# Display the first few rows with their predicted cluster\n",
    "print(df[['text', 'Cluster']].head())"
   ]
  },
  {
   "cell_type": "code",
   "execution_count": 17,
   "id": "aa408f57-833c-4b27-9b3d-5d966039535c",
   "metadata": {},
   "outputs": [
    {
     "name": "stdout",
     "output_type": "stream",
     "text": [
      "Purity: 0.3684210526315789\n"
     ]
    }
   ],
   "source": [
    "from collections import Counter\n",
    "\n",
    "# Calculate purity\n",
    "total_samples = len(df)\n",
    "cluster_label_counts = [Counter(df['Cluster'])]\n",
    "purity = sum(max(cluster.values()) for cluster in cluster_label_counts) / total_samples\n",
    "print(\"Purity:\", purity)"
   ]
  },
  {
   "cell_type": "code",
   "execution_count": 19,
   "id": "e271f217-2876-4b55-a4ff-a61d03e0d3f9",
   "metadata": {},
   "outputs": [
    {
     "data": {
      "image/png": "[encoded data removed]",
      "text/plain": [
       "<Figure size 800x600 with 2 Axes>"
      ]
     },
     "metadata": {},
     "output_type": "display_data"
    }
   ],
   "source": [
    "import matplotlib.pyplot as plt\n",
    "from sklearn.decomposition import PCA\n",
    "\n",
    "# Reduce dimensionality to 2D using PCA\n",
    "pca = PCA(n_components=2)\n",
    "X_pca = pca.fit_transform(X.toarray())\n",
    "\n",
    "# Plot the 2D PCA representation of the clusters\n",
    "plt.figure(figsize=(8, 6))\n",
    "plt.scatter(X_pca[:, 0], X_pca[:, 1], c=df['Cluster'], cmap='viridis')\n",
    "plt.title('Customer Complaints Clustering')\n",
    "plt.xlabel('PCA 1')\n",
    "plt.ylabel('PCA 2')\n",
    "plt.colorbar(label='Cluster')\n",
    "plt.show()"
   ]
  },
  {
   "cell_type": "code",
   "execution_count": null,
   "id": "79a781e1-14dc-4ac3-a774-62f9008ee64d",
   "metadata": {},
   "outputs": [],
   "source": []
  }
 ],
 "metadata": {
  "kernelspec": {
   "display_name": "Python [conda env:base] *",
   "language": "python",
   "name": "conda-base-py"
  },
  "language_info": {
   "codemirror_mode": {
    "name": "ipython",
    "version": 3
   },
   "file_extension": ".py",
   "mimetype": "text/x-python",
   "name": "python",
   "nbconvert_exporter": "python",
   "pygments_lexer": "ipython3",
   "version": "3.12.7"
  }
 },
 "nbformat": 4,
 "nbformat_minor": 5
}
